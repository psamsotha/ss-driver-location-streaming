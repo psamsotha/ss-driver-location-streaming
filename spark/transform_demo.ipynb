{
 "cells": [
  {
   "cell_type": "code",
   "execution_count": 1,
   "id": "379508c9-731c-4636-93d7-e6006604b231",
   "metadata": {},
   "outputs": [],
   "source": [
    "from datetime import datetime\n",
    "from pyspark.sql import Row\n",
    "from pyspark.sql import SparkSession\n",
    "from pyspark.sql.types import *\n",
    "from pyspark.sql.functions import to_date, col\n",
    "\n",
    "spark = SparkSession.builder.getOrCreate()\n",
    "\n",
    "data = [\n",
    "    {\n",
    "        \"delivery_id\": 38,\n",
    "        \"driver_id\": \"012F0A15AFA44CFB8D95FD7E1A8C4DE6\",\n",
    "        \"lat\": 38.92751813710914,\n",
    "        \"lng\": -77.04377994977315,\n",
    "        \"timestamp\": \"2021-10-25T13:51:00.569154\"\n",
    "    },\n",
    "    {\n",
    "\n",
    "        \"delivery_id\": 37,\n",
    "        \"driver_id\": \"012F0A15AFA44CFB8D95FD7E1A8C4DE6\",\n",
    "        \"lat\": 38.927670296049904,\n",
    "        \"lng\": -77.04365646089744,\n",
    "        \"timestamp\": \"2021-10-25T13:51:03.569161\"\n",
    "    },\n",
    "    {\n",
    "        \"delivery_id\": 38,\n",
    "        \"driver_id\": \"012F0A15AFA44CFB8D95FD7E1A8C4DE6\",\n",
    "        \"lat\": 38.92782245485607,\n",
    "        \"lng\": -77.04353297149412,\n",
    "        \"timestamp\": \"2021-10-26T13:51:06.569168\"\n",
    "    },\n",
    "    {\n",
    "        \"delivery_id\": 37,\n",
    "        \"driver_id\": \"012F0A15AFA44CFB8D95FD7E1A8C4DE6\",\n",
    "        \"lat\": 38.927974613527624,\n",
    "        \"lng\": -77.04340948156317,\n",
    "        \"timestamp\": \"2021-10-26T13:51:09.569175\"\n",
    "    }\n",
    "]"
   ]
  },
  {
   "cell_type": "code",
   "execution_count": 2,
   "id": "d8ce37b9-a9c3-4dac-9b0f-c96c8e612baa",
   "metadata": {},
   "outputs": [
    {
     "name": "stdout",
     "output_type": "stream",
     "text": [
      "+-----------+--------------------+------------------+------------------+--------------------+\n",
      "|delivery_id|           driver_id|               lat|               lng|           timestamp|\n",
      "+-----------+--------------------+------------------+------------------+--------------------+\n",
      "|         38|012F0A15AFA44CFB8...| 38.92751813710914|-77.04377994977315|2021-10-25 13:51:...|\n",
      "|         37|012F0A15AFA44CFB8...|38.927670296049904|-77.04365646089744|2021-10-25 13:51:...|\n",
      "|         38|012F0A15AFA44CFB8...| 38.92782245485607|-77.04353297149412|2021-10-26 13:51:...|\n",
      "|         37|012F0A15AFA44CFB8...|38.927974613527624|-77.04340948156317|2021-10-26 13:51:...|\n",
      "+-----------+--------------------+------------------+------------------+--------------------+\n",
      "\n",
      "+--------------------+----------+-----------+\n",
      "|           driver_id|      date|total_pings|\n",
      "+--------------------+----------+-----------+\n",
      "|012F0A15AFA44CFB8...|2021-10-25|          2|\n",
      "|012F0A15AFA44CFB8...|2021-10-26|          2|\n",
      "+--------------------+----------+-----------+\n",
      "\n"
     ]
    }
   ],
   "source": [
    "schema = StructType([\n",
    "    StructField(\"delivery_id\", IntegerType()),\n",
    "    StructField(\"driver_id\", StringType()),\n",
    "    StructField(\"lat\", StringType()),\n",
    "    StructField(\"lng\", StringType()),\n",
    "    StructField(\"timestamp\", TimestampType())])\n",
    "\n",
    "\n",
    "def get_datetime(timestamp_str):\n",
    "    return datetime.strptime(timestamp_str, \"%Y-%m-%dT%H:%M:%S.%f\")\n",
    "\n",
    "\n",
    "def dict_to_row(dct):\n",
    "    return Row(delivery_id=dct['delivery_id'],\n",
    "               driver_id=dct['driver_id'],\n",
    "               lat=dct['lat'],\n",
    "               lng=dct['lng'],\n",
    "               timestamp=get_datetime(dct['timestamp']))\n",
    "\n",
    "\n",
    "rows = list(map(dict_to_row, data))\n",
    "df = spark.createDataFrame(rows, schema)\n",
    "df.show()\n",
    "\n",
    "df \\\n",
    "    .withColumn('date', to_date(col('timestamp'), 'yyyy-MM-dd'))\\\n",
    "    .groupBy('driver_id', 'date')\\\n",
    "    .count()\\\n",
    "    .withColumnRenamed('count', 'total_pings')\\\n",
    "    .show()"
   ]
  },
  {
   "cell_type": "code",
   "execution_count": null,
   "id": "e3fb7dd2-e3d0-4074-8e21-8b3d0b4733e1",
   "metadata": {},
   "outputs": [],
   "source": []
  }
 ],
 "metadata": {
  "kernelspec": {
   "display_name": "Python 3",
   "language": "python",
   "name": "python3"
  },
  "language_info": {
   "codemirror_mode": {
    "name": "ipython",
    "version": 3
   },
   "file_extension": ".py",
   "mimetype": "text/x-python",
   "name": "python",
   "nbconvert_exporter": "python",
   "pygments_lexer": "ipython3",
   "version": "3.6.15"
  }
 },
 "nbformat": 4,
 "nbformat_minor": 5
}
